{
 "cells": [
  {
   "cell_type": "markdown",
   "metadata": {},
   "source": [
    "## <center> Amphibians Dataset </center>\n",
    "Click <a href=\"https://archive.ics.uci.edu/ml/datasets/Amphibians#\"> here </a> for the data source.\n",
    "<br>The goal is to predict the presence of amphibians species near the water reservoirs based on features obtained from GIS systems and satellite images. <br>\n",
    "This reports were mostly used to gather information on the size of the amphibian population in each of the 189 occurrence sites. <br>"
   ]
  },
  {
   "cell_type": "code",
   "execution_count": 101,
   "metadata": {},
   "outputs": [],
   "source": [
    "#Load required packages\n",
    "\n",
    "import pandas as pd\n",
    "import numpy as np\n",
    "import matplotlib.pyplot as plt\n",
    "%matplotlib inline\n",
    "import matplotlib.lines as lines\n",
    "import seaborn as sns\n",
    "import warnings\n",
    "warnings.filterwarnings('ignore')\n",
    "from IPython.display import HTML\n",
    "from sklearn.preprocessing import LabelEncoder"
   ]
  },
  {
   "cell_type": "code",
   "execution_count": 53,
   "metadata": {},
   "outputs": [],
   "source": [
    "#Visualization settings\n",
    "sns.set_style(style='white')\n",
    "sns.set(rc={\n",
    "    'figure.figsize': (12,7),\n",
    "    'axes.facecolor': 'white',\n",
    "    'axes.grid': True,\n",
    "    'grid.color': '.9',\n",
    "    'axes.linewidth': 1.0,\n",
    "    'grid.linestyle': u'-'},\n",
    "    font_scale=1.5)\n",
    "custom_colors=[\"#3498db\", \"#95a5a6\",\"#34495e\", \"#2ecc71\", \"#e74c3c\"]\n",
    "sns.set_palette(custom_colors)\n",
    "background_color='#fbfbfb'\n"
   ]
  },
  {
   "cell_type": "code",
   "execution_count": 54,
   "metadata": {},
   "outputs": [],
   "source": [
    "df_input = pd.read_csv('amphibians.csv',delimiter=\";\",header=None)"
   ]
  },
  {
   "cell_type": "code",
   "execution_count": 55,
   "metadata": {},
   "outputs": [
    {
     "data": {
      "text/html": [
       "<div>\n",
       "<style scoped>\n",
       "    .dataframe tbody tr th:only-of-type {\n",
       "        vertical-align: middle;\n",
       "    }\n",
       "\n",
       "    .dataframe tbody tr th {\n",
       "        vertical-align: top;\n",
       "    }\n",
       "\n",
       "    .dataframe thead th {\n",
       "        text-align: right;\n",
       "    }\n",
       "</style>\n",
       "<table border=\"1\" class=\"dataframe\">\n",
       "  <thead>\n",
       "    <tr style=\"text-align: right;\">\n",
       "      <th></th>\n",
       "      <th>0</th>\n",
       "      <th>1</th>\n",
       "      <th>2</th>\n",
       "      <th>3</th>\n",
       "      <th>4</th>\n",
       "      <th>5</th>\n",
       "      <th>6</th>\n",
       "      <th>7</th>\n",
       "      <th>8</th>\n",
       "      <th>9</th>\n",
       "      <th>...</th>\n",
       "      <th>13</th>\n",
       "      <th>14</th>\n",
       "      <th>15</th>\n",
       "      <th>16</th>\n",
       "      <th>17</th>\n",
       "      <th>18</th>\n",
       "      <th>19</th>\n",
       "      <th>20</th>\n",
       "      <th>21</th>\n",
       "      <th>22</th>\n",
       "    </tr>\n",
       "  </thead>\n",
       "  <tbody>\n",
       "    <tr>\n",
       "      <th>0</th>\n",
       "      <td>Integer</td>\n",
       "      <td>Categorical</td>\n",
       "      <td>Numerical</td>\n",
       "      <td>Numerical</td>\n",
       "      <td>Categorical</td>\n",
       "      <td>Categorical</td>\n",
       "      <td>Categorical</td>\n",
       "      <td>Categorical</td>\n",
       "      <td>Categorical</td>\n",
       "      <td>Categorical</td>\n",
       "      <td>...</td>\n",
       "      <td>Ordinal</td>\n",
       "      <td>Categorical</td>\n",
       "      <td>Categorical</td>\n",
       "      <td>Label 1</td>\n",
       "      <td>Label 2</td>\n",
       "      <td>Label 3</td>\n",
       "      <td>Label 4</td>\n",
       "      <td>Label 5</td>\n",
       "      <td>Label 6</td>\n",
       "      <td>Label 7</td>\n",
       "    </tr>\n",
       "    <tr>\n",
       "      <th>1</th>\n",
       "      <td>ID</td>\n",
       "      <td>Motorway</td>\n",
       "      <td>SR</td>\n",
       "      <td>NR</td>\n",
       "      <td>TR</td>\n",
       "      <td>VR</td>\n",
       "      <td>SUR1</td>\n",
       "      <td>SUR2</td>\n",
       "      <td>SUR3</td>\n",
       "      <td>UR</td>\n",
       "      <td>...</td>\n",
       "      <td>BR</td>\n",
       "      <td>MR</td>\n",
       "      <td>CR</td>\n",
       "      <td>Green frogs</td>\n",
       "      <td>Brown frogs</td>\n",
       "      <td>Common toad</td>\n",
       "      <td>Fire-bellied toad</td>\n",
       "      <td>Tree frog</td>\n",
       "      <td>Common newt</td>\n",
       "      <td>Great crested newt</td>\n",
       "    </tr>\n",
       "    <tr>\n",
       "      <th>2</th>\n",
       "      <td>1</td>\n",
       "      <td>A1</td>\n",
       "      <td>600</td>\n",
       "      <td>1</td>\n",
       "      <td>1</td>\n",
       "      <td>4</td>\n",
       "      <td>6</td>\n",
       "      <td>2</td>\n",
       "      <td>10</td>\n",
       "      <td>0</td>\n",
       "      <td>...</td>\n",
       "      <td>0</td>\n",
       "      <td>0</td>\n",
       "      <td>1</td>\n",
       "      <td>0</td>\n",
       "      <td>0</td>\n",
       "      <td>0</td>\n",
       "      <td>0</td>\n",
       "      <td>0</td>\n",
       "      <td>0</td>\n",
       "      <td>0</td>\n",
       "    </tr>\n",
       "    <tr>\n",
       "      <th>3</th>\n",
       "      <td>2</td>\n",
       "      <td>A1</td>\n",
       "      <td>700</td>\n",
       "      <td>1</td>\n",
       "      <td>5</td>\n",
       "      <td>1</td>\n",
       "      <td>10</td>\n",
       "      <td>6</td>\n",
       "      <td>10</td>\n",
       "      <td>3</td>\n",
       "      <td>...</td>\n",
       "      <td>1</td>\n",
       "      <td>0</td>\n",
       "      <td>1</td>\n",
       "      <td>0</td>\n",
       "      <td>1</td>\n",
       "      <td>1</td>\n",
       "      <td>0</td>\n",
       "      <td>0</td>\n",
       "      <td>1</td>\n",
       "      <td>0</td>\n",
       "    </tr>\n",
       "    <tr>\n",
       "      <th>4</th>\n",
       "      <td>3</td>\n",
       "      <td>A1</td>\n",
       "      <td>200</td>\n",
       "      <td>1</td>\n",
       "      <td>5</td>\n",
       "      <td>1</td>\n",
       "      <td>10</td>\n",
       "      <td>6</td>\n",
       "      <td>10</td>\n",
       "      <td>3</td>\n",
       "      <td>...</td>\n",
       "      <td>1</td>\n",
       "      <td>0</td>\n",
       "      <td>1</td>\n",
       "      <td>0</td>\n",
       "      <td>1</td>\n",
       "      <td>1</td>\n",
       "      <td>0</td>\n",
       "      <td>0</td>\n",
       "      <td>1</td>\n",
       "      <td>0</td>\n",
       "    </tr>\n",
       "  </tbody>\n",
       "</table>\n",
       "<p>5 rows × 23 columns</p>\n",
       "</div>"
      ],
      "text/plain": [
       "        0            1          2          3            4            5   \\\n",
       "0  Integer  Categorical  Numerical  Numerical  Categorical  Categorical   \n",
       "1       ID     Motorway         SR         NR           TR           VR   \n",
       "2        1           A1        600          1            1            4   \n",
       "3        2           A1        700          1            5            1   \n",
       "4        3           A1        200          1            5            1   \n",
       "\n",
       "            6            7            8            9   ...       13  \\\n",
       "0  Categorical  Categorical  Categorical  Categorical  ...  Ordinal   \n",
       "1         SUR1         SUR2         SUR3           UR  ...       BR   \n",
       "2            6            2           10            0  ...        0   \n",
       "3           10            6           10            3  ...        1   \n",
       "4           10            6           10            3  ...        1   \n",
       "\n",
       "            14           15           16           17           18  \\\n",
       "0  Categorical  Categorical      Label 1      Label 2      Label 3   \n",
       "1           MR           CR  Green frogs  Brown frogs  Common toad   \n",
       "2            0            1            0            0            0   \n",
       "3            0            1            0            1            1   \n",
       "4            0            1            0            1            1   \n",
       "\n",
       "                  19         20           21                  22  \n",
       "0            Label 4    Label 5      Label 6             Label 7  \n",
       "1  Fire-bellied toad  Tree frog  Common newt  Great crested newt  \n",
       "2                  0          0            0                   0  \n",
       "3                  0          0            1                   0  \n",
       "4                  0          0            1                   0  \n",
       "\n",
       "[5 rows x 23 columns]"
      ]
     },
     "execution_count": 55,
     "metadata": {},
     "output_type": "execute_result"
    }
   ],
   "source": [
    "df_input.head()"
   ]
  },
  {
   "cell_type": "code",
   "execution_count": 56,
   "metadata": {},
   "outputs": [
    {
     "data": {
      "text/html": [
       "<div>\n",
       "<style scoped>\n",
       "    .dataframe tbody tr th:only-of-type {\n",
       "        vertical-align: middle;\n",
       "    }\n",
       "\n",
       "    .dataframe tbody tr th {\n",
       "        vertical-align: top;\n",
       "    }\n",
       "\n",
       "    .dataframe thead th {\n",
       "        text-align: right;\n",
       "    }\n",
       "</style>\n",
       "<table border=\"1\" class=\"dataframe\">\n",
       "  <thead>\n",
       "    <tr style=\"text-align: right;\">\n",
       "      <th>1</th>\n",
       "      <th>ID</th>\n",
       "      <th>Motorway</th>\n",
       "      <th>SR</th>\n",
       "      <th>NR</th>\n",
       "      <th>TR</th>\n",
       "      <th>VR</th>\n",
       "      <th>SUR1</th>\n",
       "      <th>SUR2</th>\n",
       "      <th>SUR3</th>\n",
       "      <th>UR</th>\n",
       "      <th>...</th>\n",
       "      <th>BR</th>\n",
       "      <th>MR</th>\n",
       "      <th>CR</th>\n",
       "      <th>Green frogs</th>\n",
       "      <th>Brown frogs</th>\n",
       "      <th>Common toad</th>\n",
       "      <th>Fire-bellied toad</th>\n",
       "      <th>Tree frog</th>\n",
       "      <th>Common newt</th>\n",
       "      <th>Great crested newt</th>\n",
       "    </tr>\n",
       "  </thead>\n",
       "  <tbody>\n",
       "    <tr>\n",
       "      <th>2</th>\n",
       "      <td>1</td>\n",
       "      <td>A1</td>\n",
       "      <td>600</td>\n",
       "      <td>1</td>\n",
       "      <td>1</td>\n",
       "      <td>4</td>\n",
       "      <td>6</td>\n",
       "      <td>2</td>\n",
       "      <td>10</td>\n",
       "      <td>0</td>\n",
       "      <td>...</td>\n",
       "      <td>0</td>\n",
       "      <td>0</td>\n",
       "      <td>1</td>\n",
       "      <td>0</td>\n",
       "      <td>0</td>\n",
       "      <td>0</td>\n",
       "      <td>0</td>\n",
       "      <td>0</td>\n",
       "      <td>0</td>\n",
       "      <td>0</td>\n",
       "    </tr>\n",
       "    <tr>\n",
       "      <th>3</th>\n",
       "      <td>2</td>\n",
       "      <td>A1</td>\n",
       "      <td>700</td>\n",
       "      <td>1</td>\n",
       "      <td>5</td>\n",
       "      <td>1</td>\n",
       "      <td>10</td>\n",
       "      <td>6</td>\n",
       "      <td>10</td>\n",
       "      <td>3</td>\n",
       "      <td>...</td>\n",
       "      <td>1</td>\n",
       "      <td>0</td>\n",
       "      <td>1</td>\n",
       "      <td>0</td>\n",
       "      <td>1</td>\n",
       "      <td>1</td>\n",
       "      <td>0</td>\n",
       "      <td>0</td>\n",
       "      <td>1</td>\n",
       "      <td>0</td>\n",
       "    </tr>\n",
       "    <tr>\n",
       "      <th>4</th>\n",
       "      <td>3</td>\n",
       "      <td>A1</td>\n",
       "      <td>200</td>\n",
       "      <td>1</td>\n",
       "      <td>5</td>\n",
       "      <td>1</td>\n",
       "      <td>10</td>\n",
       "      <td>6</td>\n",
       "      <td>10</td>\n",
       "      <td>3</td>\n",
       "      <td>...</td>\n",
       "      <td>1</td>\n",
       "      <td>0</td>\n",
       "      <td>1</td>\n",
       "      <td>0</td>\n",
       "      <td>1</td>\n",
       "      <td>1</td>\n",
       "      <td>0</td>\n",
       "      <td>0</td>\n",
       "      <td>1</td>\n",
       "      <td>0</td>\n",
       "    </tr>\n",
       "  </tbody>\n",
       "</table>\n",
       "<p>3 rows × 23 columns</p>\n",
       "</div>"
      ],
      "text/plain": [
       "1 ID Motorway   SR NR TR VR SUR1 SUR2 SUR3 UR  ... BR MR CR Green frogs  \\\n",
       "2  1       A1  600  1  1  4    6    2   10  0  ...  0  0  1           0   \n",
       "3  2       A1  700  1  5  1   10    6   10  3  ...  1  0  1           0   \n",
       "4  3       A1  200  1  5  1   10    6   10  3  ...  1  0  1           0   \n",
       "\n",
       "1 Brown frogs Common toad Fire-bellied toad Tree frog Common newt  \\\n",
       "2           0           0                 0         0           0   \n",
       "3           1           1                 0         0           1   \n",
       "4           1           1                 0         0           1   \n",
       "\n",
       "1 Great crested newt  \n",
       "2                  0  \n",
       "3                  0  \n",
       "4                  0  \n",
       "\n",
       "[3 rows x 23 columns]"
      ]
     },
     "execution_count": 56,
     "metadata": {},
     "output_type": "execute_result"
    }
   ],
   "source": [
    "#Removing not important features as per the data sources\n",
    "df_input.drop(0,axis=0,inplace=True)\n",
    "df_input.columns = df_input.loc[1]\n",
    "df_input.drop(1,axis=0,inplace=True)\n",
    "df_input.head(3)"
   ]
  },
  {
   "cell_type": "code",
   "execution_count": 57,
   "metadata": {},
   "outputs": [
    {
     "name": "stdout",
     "output_type": "stream",
     "text": [
      "Shape of dataset : (189, 23)\n",
      "\n"
     ]
    },
    {
     "data": {
      "text/html": [
       "Feature names:"
      ],
      "text/plain": [
       "<IPython.core.display.HTML object>"
      ]
     },
     "metadata": {},
     "output_type": "display_data"
    },
    {
     "data": {
      "text/html": [
       "<ol><li>ID</li><li>Motorway</li><li>SR</li><li>NR</li><li>TR</li><li>VR</li><li>SUR1</li><li>SUR2</li><li>SUR3</li><li>UR</li><li>FR</li><li>OR</li><li>RR</li><li>BR</li><li>MR</li><li>CR</li><li>Green frogs</li><li>Brown frogs</li><li>Common toad</li><li>Fire-bellied toad</li><li>Tree frog</li><li>Common newt</li><li>Great crested newt</li></ol>"
      ],
      "text/plain": [
       "<IPython.core.display.HTML object>"
      ]
     },
     "metadata": {},
     "output_type": "display_data"
    },
    {
     "name": "stdout",
     "output_type": "stream",
     "text": [
      "\n",
      "Sample dataset :\n",
      "\n"
     ]
    },
    {
     "data": {
      "text/html": [
       "<div>\n",
       "<style scoped>\n",
       "    .dataframe tbody tr th:only-of-type {\n",
       "        vertical-align: middle;\n",
       "    }\n",
       "\n",
       "    .dataframe tbody tr th {\n",
       "        vertical-align: top;\n",
       "    }\n",
       "\n",
       "    .dataframe thead th {\n",
       "        text-align: right;\n",
       "    }\n",
       "</style>\n",
       "<table border=\"1\" class=\"dataframe\">\n",
       "  <thead>\n",
       "    <tr style=\"text-align: right;\">\n",
       "      <th>1</th>\n",
       "      <th>ID</th>\n",
       "      <th>Motorway</th>\n",
       "      <th>SR</th>\n",
       "      <th>NR</th>\n",
       "      <th>TR</th>\n",
       "      <th>VR</th>\n",
       "      <th>SUR1</th>\n",
       "      <th>SUR2</th>\n",
       "      <th>SUR3</th>\n",
       "      <th>UR</th>\n",
       "      <th>...</th>\n",
       "      <th>BR</th>\n",
       "      <th>MR</th>\n",
       "      <th>CR</th>\n",
       "      <th>Green frogs</th>\n",
       "      <th>Brown frogs</th>\n",
       "      <th>Common toad</th>\n",
       "      <th>Fire-bellied toad</th>\n",
       "      <th>Tree frog</th>\n",
       "      <th>Common newt</th>\n",
       "      <th>Great crested newt</th>\n",
       "    </tr>\n",
       "  </thead>\n",
       "  <tbody>\n",
       "    <tr>\n",
       "      <th>2</th>\n",
       "      <td>1</td>\n",
       "      <td>A1</td>\n",
       "      <td>600</td>\n",
       "      <td>1</td>\n",
       "      <td>1</td>\n",
       "      <td>4</td>\n",
       "      <td>6</td>\n",
       "      <td>2</td>\n",
       "      <td>10</td>\n",
       "      <td>0</td>\n",
       "      <td>...</td>\n",
       "      <td>0</td>\n",
       "      <td>0</td>\n",
       "      <td>1</td>\n",
       "      <td>0</td>\n",
       "      <td>0</td>\n",
       "      <td>0</td>\n",
       "      <td>0</td>\n",
       "      <td>0</td>\n",
       "      <td>0</td>\n",
       "      <td>0</td>\n",
       "    </tr>\n",
       "    <tr>\n",
       "      <th>3</th>\n",
       "      <td>2</td>\n",
       "      <td>A1</td>\n",
       "      <td>700</td>\n",
       "      <td>1</td>\n",
       "      <td>5</td>\n",
       "      <td>1</td>\n",
       "      <td>10</td>\n",
       "      <td>6</td>\n",
       "      <td>10</td>\n",
       "      <td>3</td>\n",
       "      <td>...</td>\n",
       "      <td>1</td>\n",
       "      <td>0</td>\n",
       "      <td>1</td>\n",
       "      <td>0</td>\n",
       "      <td>1</td>\n",
       "      <td>1</td>\n",
       "      <td>0</td>\n",
       "      <td>0</td>\n",
       "      <td>1</td>\n",
       "      <td>0</td>\n",
       "    </tr>\n",
       "    <tr>\n",
       "      <th>4</th>\n",
       "      <td>3</td>\n",
       "      <td>A1</td>\n",
       "      <td>200</td>\n",
       "      <td>1</td>\n",
       "      <td>5</td>\n",
       "      <td>1</td>\n",
       "      <td>10</td>\n",
       "      <td>6</td>\n",
       "      <td>10</td>\n",
       "      <td>3</td>\n",
       "      <td>...</td>\n",
       "      <td>1</td>\n",
       "      <td>0</td>\n",
       "      <td>1</td>\n",
       "      <td>0</td>\n",
       "      <td>1</td>\n",
       "      <td>1</td>\n",
       "      <td>0</td>\n",
       "      <td>0</td>\n",
       "      <td>1</td>\n",
       "      <td>0</td>\n",
       "    </tr>\n",
       "    <tr>\n",
       "      <th>5</th>\n",
       "      <td>4</td>\n",
       "      <td>A1</td>\n",
       "      <td>300</td>\n",
       "      <td>1</td>\n",
       "      <td>5</td>\n",
       "      <td>0</td>\n",
       "      <td>6</td>\n",
       "      <td>10</td>\n",
       "      <td>2</td>\n",
       "      <td>3</td>\n",
       "      <td>...</td>\n",
       "      <td>0</td>\n",
       "      <td>0</td>\n",
       "      <td>1</td>\n",
       "      <td>0</td>\n",
       "      <td>0</td>\n",
       "      <td>1</td>\n",
       "      <td>0</td>\n",
       "      <td>0</td>\n",
       "      <td>0</td>\n",
       "      <td>0</td>\n",
       "    </tr>\n",
       "    <tr>\n",
       "      <th>6</th>\n",
       "      <td>5</td>\n",
       "      <td>A1</td>\n",
       "      <td>600</td>\n",
       "      <td>2</td>\n",
       "      <td>1</td>\n",
       "      <td>4</td>\n",
       "      <td>10</td>\n",
       "      <td>2</td>\n",
       "      <td>6</td>\n",
       "      <td>0</td>\n",
       "      <td>...</td>\n",
       "      <td>5</td>\n",
       "      <td>0</td>\n",
       "      <td>1</td>\n",
       "      <td>0</td>\n",
       "      <td>1</td>\n",
       "      <td>1</td>\n",
       "      <td>1</td>\n",
       "      <td>0</td>\n",
       "      <td>1</td>\n",
       "      <td>1</td>\n",
       "    </tr>\n",
       "  </tbody>\n",
       "</table>\n",
       "<p>5 rows × 23 columns</p>\n",
       "</div>"
      ],
      "text/plain": [
       "1 ID Motorway   SR NR TR VR SUR1 SUR2 SUR3 UR  ... BR MR CR Green frogs  \\\n",
       "2  1       A1  600  1  1  4    6    2   10  0  ...  0  0  1           0   \n",
       "3  2       A1  700  1  5  1   10    6   10  3  ...  1  0  1           0   \n",
       "4  3       A1  200  1  5  1   10    6   10  3  ...  1  0  1           0   \n",
       "5  4       A1  300  1  5  0    6   10    2  3  ...  0  0  1           0   \n",
       "6  5       A1  600  2  1  4   10    2    6  0  ...  5  0  1           0   \n",
       "\n",
       "1 Brown frogs Common toad Fire-bellied toad Tree frog Common newt  \\\n",
       "2           0           0                 0         0           0   \n",
       "3           1           1                 0         0           1   \n",
       "4           1           1                 0         0           1   \n",
       "5           0           1                 0         0           0   \n",
       "6           1           1                 1         0           1   \n",
       "\n",
       "1 Great crested newt  \n",
       "2                  0  \n",
       "3                  0  \n",
       "4                  0  \n",
       "5                  0  \n",
       "6                  1  \n",
       "\n",
       "[5 rows x 23 columns]"
      ]
     },
     "execution_count": 57,
     "metadata": {},
     "output_type": "execute_result"
    }
   ],
   "source": [
    "print (f'Shape of dataset : {df_input.shape}\\n')\n",
    "\n",
    "display(HTML(\"Feature names:\"))\n",
    "col_tags = \"<ol>\" + \"\" . join([f\"<li>{col}</li>\" for col in df_input.columns]) + \"</ol>\"\n",
    "display (HTML(col_tags))\n",
    "\n",
    "print ('\\nSample dataset :\\n')\n",
    "df_input.head()"
   ]
  },
  {
   "cell_type": "code",
   "execution_count": 58,
   "metadata": {},
   "outputs": [],
   "source": [
    "# Remove unwanted features as per data description\n",
    "df_input.drop(['ID','Motorway'],axis=1,inplace=True)"
   ]
  },
  {
   "cell_type": "code",
   "execution_count": 59,
   "metadata": {},
   "outputs": [
    {
     "data": {
      "text/plain": [
       "1\n",
       "SR                    0\n",
       "NR                    0\n",
       "TR                    0\n",
       "VR                    0\n",
       "SUR1                  0\n",
       "SUR2                  0\n",
       "SUR3                  0\n",
       "UR                    0\n",
       "FR                    0\n",
       "OR                    0\n",
       "RR                    0\n",
       "BR                    0\n",
       "MR                    0\n",
       "CR                    0\n",
       "Green frogs           0\n",
       "Brown frogs           0\n",
       "Common toad           0\n",
       "Fire-bellied toad     0\n",
       "Tree frog             0\n",
       "Common newt           0\n",
       "Great crested newt    0\n",
       "dtype: int64"
      ]
     },
     "execution_count": 59,
     "metadata": {},
     "output_type": "execute_result"
    }
   ],
   "source": [
    "# Check for any missing values\n",
    "df_input.isnull().sum()"
   ]
  },
  {
   "cell_type": "code",
   "execution_count": 60,
   "metadata": {},
   "outputs": [
    {
     "name": "stdout",
     "output_type": "stream",
     "text": [
      "<class 'pandas.core.frame.DataFrame'>\n",
      "Int64Index: 189 entries, 2 to 190\n",
      "Data columns (total 21 columns):\n",
      " #   Column              Non-Null Count  Dtype \n",
      "---  ------              --------------  ----- \n",
      " 0   SR                  189 non-null    object\n",
      " 1   NR                  189 non-null    object\n",
      " 2   TR                  189 non-null    object\n",
      " 3   VR                  189 non-null    object\n",
      " 4   SUR1                189 non-null    object\n",
      " 5   SUR2                189 non-null    object\n",
      " 6   SUR3                189 non-null    object\n",
      " 7   UR                  189 non-null    object\n",
      " 8   FR                  189 non-null    object\n",
      " 9   OR                  189 non-null    object\n",
      " 10  RR                  189 non-null    object\n",
      " 11  BR                  189 non-null    object\n",
      " 12  MR                  189 non-null    object\n",
      " 13  CR                  189 non-null    object\n",
      " 14  Green frogs         189 non-null    object\n",
      " 15  Brown frogs         189 non-null    object\n",
      " 16  Common toad         189 non-null    object\n",
      " 17  Fire-bellied toad   189 non-null    object\n",
      " 18  Tree frog           189 non-null    object\n",
      " 19  Common newt         189 non-null    object\n",
      " 20  Great crested newt  189 non-null    object\n",
      "dtypes: object(21)\n",
      "memory usage: 32.5+ KB\n"
     ]
    }
   ],
   "source": [
    "df_input.info()"
   ]
  },
  {
   "cell_type": "code",
   "execution_count": 61,
   "metadata": {},
   "outputs": [
    {
     "name": "stdout",
     "output_type": "stream",
     "text": [
      "Unique data types in features: [dtype('int64')]\n"
     ]
    }
   ],
   "source": [
    "df_input['SR']=pd.to_numeric(df_input['SR'])\n",
    "df_input['NR']=pd.to_numeric(df_input['NR'])\n",
    "df_input['TR']=pd.to_numeric(df_input['TR'])\n",
    "df_input['VR']=pd.to_numeric(df_input['VR'])\n",
    "df_input['SUR1']=pd.to_numeric(df_input['SUR1'])\n",
    "df_input['SUR2']=pd.to_numeric(df_input['SUR2'])\n",
    "df_input['SUR3']=pd.to_numeric(df_input['SUR3'])\n",
    "df_input['RR']=pd.to_numeric(df_input['RR'])\n",
    "df_input['BR']=pd.to_numeric(df_input['BR'])\n",
    "df_input['MR']=pd.to_numeric(df_input['MR'])\n",
    "df_input['CR']=pd.to_numeric(df_input['CR'])\n",
    "df_input['UR']=pd.to_numeric(df_input['UR'])\n",
    "df_input['FR']=pd.to_numeric(df_input['FR'])\n",
    "df_input['OR']=pd.to_numeric(df_input['OR'])\n",
    "df_input['Green frogs']=pd.to_numeric(df_input['Green frogs'])\n",
    "df_input['Brown frogs']=pd.to_numeric(df_input['Brown frogs'])\n",
    "df_input['Common toad']=pd.to_numeric(df_input['Common toad'])\n",
    "df_input['Fire-bellied toad']=pd.to_numeric(df_input['Fire-bellied toad'])\n",
    "df_input['Tree frog']=pd.to_numeric(df_input['Tree frog'])\n",
    "df_input['Common newt']=pd.to_numeric(df_input['Common newt'])\n",
    "df_input['Great crested newt']=pd.to_numeric(df_input['Great crested newt'])\n",
    "\n",
    "#Check again for features data types, to makes sure that conversion worked.\n",
    "print (f\"Unique data types in features: {df_input.dtypes.unique()}\")\n"
   ]
  },
  {
   "cell_type": "markdown",
   "metadata": {},
   "source": [
    "## <center>Feature Analysis</center>"
   ]
  },
  {
   "cell_type": "code",
   "execution_count": 62,
   "metadata": {},
   "outputs": [],
   "source": [
    "#User defined functions for analysing discrete and continuous variables\n",
    "\n",
    "#Discrete feature analysis\n",
    "def analyze_discrete_feature(fld,display_graph=True):\n",
    "    print (\"Sample data:\\n\")\n",
    "    display(fld.head())\n",
    "    df=pd.DataFrame({\"Value\": fld.value_counts().index,\n",
    "                 \"Count\":fld.value_counts().values})\n",
    "    print (\"\\nNull value count : \", fld.isnull().sum())\n",
    "    unique_list=fld.unique().tolist()\n",
    "    print (\"\\nUnique values: \", unique_list)\n",
    "    print (\"\\n Unique values count: \", len(unique_list))\n",
    "    print (\"\\nValue counts:\\n\",    df)\n",
    "    if display_graph==True:\n",
    "        plt.subplots(figsize=(25,10),facecolor=background_color)\n",
    "        plt.subplot(2,2,1)\n",
    "        plt.pie(fld.value_counts(),labels=fld.value_counts().index,autopct=lambda x: f'{x: .2f}%');\n",
    "        plt.xticks(rotation=90)\n",
    "\n",
    "        plt.subplot(2,2,2)   \n",
    "        sns.barplot(data=df, x=\"Value\",y=\"Count\").set_facecolor(background_color);\n",
    "        plt.xticks(rotation=90);\n",
    "        plt.suptitle(fld.name + \" -distribution\");\n",
    "\n",
    "        plt.show()\n",
    "        plt.close()\n",
    "    display(HTML(\"<h4 style='background-color:#fbfbfb;font-family:serif;font-size:160%'>Discrete variable</h4>\"))"
   ]
  },
  {
   "cell_type": "code",
   "execution_count": 63,
   "metadata": {},
   "outputs": [],
   "source": [
    "#Continuous feature analysis\n",
    "def analyze_continuous_feature(fld):\n",
    "    print (\"Null value count : \", fld.isnull().sum())\n",
    "    print (\"\\n\", fld.describe())\n",
    "    plt.subplots(figsize=(25,10))\n",
    "    plt.subplot(2,2,1)\n",
    "    plt.hist(fld)\n",
    "    plt.subplot(2,2,2)\n",
    "    sns.boxplot(fld)\n",
    "    plt.suptitle(f\"{fld.name} -distribution\")\n",
    "    plt.show()\n",
    "    plt.close()\n",
    "    display(HTML(\"<h4 style='background-color:#fbfbfb;font-family:serif;font-size:160%'>Continuous variable</h4>\"))"
   ]
  },
  {
   "cell_type": "markdown",
   "metadata": {},
   "source": [
    "### 1. SR\n",
    "Surface of water reservoir numeric [m2]"
   ]
  },
  {
   "cell_type": "code",
   "execution_count": 64,
   "metadata": {},
   "outputs": [
    {
     "name": "stdout",
     "output_type": "stream",
     "text": [
      "Null value count :  0\n",
      "\n",
      " count       189.000000\n",
      "mean       9633.227513\n",
      "std       46256.078309\n",
      "min          30.000000\n",
      "25%         300.000000\n",
      "50%         700.000000\n",
      "75%        3300.000000\n",
      "max      500000.000000\n",
      "Name: SR, dtype: float64\n"
     ]
    },
    {
     "data": {
      "image/png": "[encoded data removed]",
      "text/plain": [
       "<Figure size 1800x720 with 2 Axes>"
      ]
     },
     "metadata": {},
     "output_type": "display_data"
    },
    {
     "data": {
      "text/html": [
       "<h4 style='background-color:#fbfbfb;font-family:serif;font-size:160%'>Continuous variable</h4>"
      ],
      "text/plain": [
       "<IPython.core.display.HTML object>"
      ]
     },
     "metadata": {},
     "output_type": "display_data"
    }
   ],
   "source": [
    "analyze_continuous_feature(df_input[\"SR\"])"
   ]
  },
  {
   "cell_type": "markdown",
   "metadata": {},
   "source": [
    "### 2. NR\n",
    "Number of water reservoirs in habitat - Comment: The larger the number of reservoirs, the more likely it is that some of them will be suitable for amphibian breeding."
   ]
  },
  {
   "cell_type": "code",
   "execution_count": 65,
   "metadata": {},
   "outputs": [
    {
     "name": "stdout",
     "output_type": "stream",
     "text": [
      "Null value count :  0\n",
      "\n",
      " count    189.000000\n",
      "mean       1.566138\n",
      "std        1.544419\n",
      "min        1.000000\n",
      "25%        1.000000\n",
      "50%        1.000000\n",
      "75%        1.000000\n",
      "max       12.000000\n",
      "Name: NR, dtype: float64\n"
     ]
    },
    {
     "data": {
      "image/png": "[encoded data removed]",
      "text/plain": [
       "<Figure size 1800x720 with 2 Axes>"
      ]
     },
     "metadata": {},
     "output_type": "display_data"
    },
    {
     "data": {
      "text/html": [
       "<h4 style='background-color:#fbfbfb;font-family:serif;font-size:160%'>Continuous variable</h4>"
      ],
      "text/plain": [
       "<IPython.core.display.HTML object>"
      ]
     },
     "metadata": {},
     "output_type": "display_data"
    }
   ],
   "source": [
    "analyze_continuous_feature(df_input.NR)"
   ]
  },
  {
   "cell_type": "markdown",
   "metadata": {},
   "source": [
    "### 3. TR\n",
    "Type of water reservoirs:<br>\n",
    "a. reservoirs with natural features that are natural or anthropogenic water reservoirs (e.g., subsidence post-exploited water reservoirs), not subjected to naturalization<br>\n",
    "b. recently formed reservoirs, not subjected to naturalization<br>\n",
    "c. settling ponds<br>\n",
    "d. water reservoirs located near houses<br>\n",
    "e. technological water reservoirs<br>\n",
    "f. water reservoirs in allotment gardens<br>\n",
    "g. trenches<br>\n",
    "h. wet meadows, flood plains, marshes<br>\n",
    "i. river valleys<br>\n",
    "j. streams and very small watercourses<br>"
   ]
  },
  {
   "cell_type": "code",
   "execution_count": 66,
   "metadata": {},
   "outputs": [
    {
     "name": "stdout",
     "output_type": "stream",
     "text": [
      "Sample data:\n",
      "\n"
     ]
    },
    {
     "data": {
      "text/plain": [
       "2    1\n",
       "3    5\n",
       "4    5\n",
       "5    5\n",
       "6    1\n",
       "Name: TR, dtype: int64"
      ]
     },
     "metadata": {},
     "output_type": "display_data"
    },
    {
     "name": "stdout",
     "output_type": "stream",
     "text": [
      "\n",
      "Null value count :  0\n",
      "\n",
      "Unique values:  [1, 5, 12, 14, 15, 11, 2, 7]\n",
      "\n",
      " Unique values count:  8\n",
      "\n",
      "Value counts:\n",
      "    Value  Count\n",
      "0      1    116\n",
      "1     12     23\n",
      "2     15     19\n",
      "3      5     12\n",
      "4     14     10\n",
      "5     11      4\n",
      "6      2      4\n",
      "7      7      1\n"
     ]
    },
    {
     "data": {
      "image/png": "[encoded data removed]",
      "text/plain": [
       "<Figure size 1800x720 with 2 Axes>"
      ]
     },
     "metadata": {},
     "output_type": "display_data"
    },
    {
     "data": {
      "text/html": [
       "<h4 style='background-color:#fbfbfb;font-family:serif;font-size:160%'>Discrete variable</h4>"
      ],
      "text/plain": [
       "<IPython.core.display.HTML object>"
      ]
     },
     "metadata": {},
     "output_type": "display_data"
    }
   ],
   "source": [
    "analyze_discrete_feature(df_input.TR)"
   ]
  },
  {
   "cell_type": "markdown",
   "metadata": {},
   "source": [
    "### 4. VR\n",
    " Presence of vegetation within the reservoirs: <br>\n",
    "a. no vegetation<br>\n",
    "b. narrow patches at the edges<br>\n",
    "c. areas heavily overgrown<br>\n",
    "d. lush vegetation within the reservoir with some part devoid of vegetation<br>\n",
    "e. reservoirs completely overgrown with a disappearing water table<br>\n",
    "Comment: The vegetation in the reservoir favors amphibians, facilitates breeding, and allows the larvae to feed and give shelter. However, excess vegetation can lead to the overgrowth of the pond and water shortages.<br>"
   ]
  },
  {
   "cell_type": "code",
   "execution_count": 67,
   "metadata": {},
   "outputs": [
    {
     "name": "stdout",
     "output_type": "stream",
     "text": [
      "Sample data:\n",
      "\n"
     ]
    },
    {
     "data": {
      "text/plain": [
       "2    4\n",
       "3    1\n",
       "4    1\n",
       "5    0\n",
       "6    4\n",
       "Name: VR, dtype: int64"
      ]
     },
     "metadata": {},
     "output_type": "display_data"
    },
    {
     "name": "stdout",
     "output_type": "stream",
     "text": [
      "\n",
      "Null value count :  0\n",
      "\n",
      "Unique values:  [4, 1, 0, 2, 3]\n",
      "\n",
      " Unique values count:  5\n",
      "\n",
      "Value counts:\n",
      "    Value  Count\n",
      "0      1     55\n",
      "1      3     41\n",
      "2      2     35\n",
      "3      0     30\n",
      "4      4     28\n"
     ]
    },
    {
     "data": {
      "image/png": "[encoded data removed]",
      "text/plain": [
       "<Figure size 1800x720 with 2 Axes>"
      ]
     },
     "metadata": {},
     "output_type": "display_data"
    },
    {
     "data": {
      "text/html": [
       "<h4 style='background-color:#fbfbfb;font-family:serif;font-size:160%'>Discrete variable</h4>"
      ],
      "text/plain": [
       "<IPython.core.display.HTML object>"
      ]
     },
     "metadata": {},
     "output_type": "display_data"
    }
   ],
   "source": [
    "analyze_discrete_feature(df_input.VR)"
   ]
  },
  {
   "cell_type": "markdown",
   "metadata": {},
   "source": [
    "### 5. SUR1\n",
    "Surroundings 1 : the dominant types of land cover surrounding the water reservoir"
   ]
  },
  {
   "cell_type": "code",
   "execution_count": 68,
   "metadata": {},
   "outputs": [
    {
     "name": "stdout",
     "output_type": "stream",
     "text": [
      "Null value count :  0\n",
      "\n",
      " count    189.000000\n",
      "mean       4.232804\n",
      "std        3.434615\n",
      "min        1.000000\n",
      "25%        2.000000\n",
      "50%        2.000000\n",
      "75%        7.000000\n",
      "max       14.000000\n",
      "Name: SUR1, dtype: float64\n"
     ]
    },
    {
     "data": {
      "image/png": "[encoded data removed]",
      "text/plain": [
       "<Figure size 1800x720 with 2 Axes>"
      ]
     },
     "metadata": {},
     "output_type": "display_data"
    },
    {
     "data": {
      "text/html": [
       "<h4 style='background-color:#fbfbfb;font-family:serif;font-size:160%'>Continuous variable</h4>"
      ],
      "text/plain": [
       "<IPython.core.display.HTML object>"
      ]
     },
     "metadata": {},
     "output_type": "display_data"
    }
   ],
   "source": [
    "analyze_continuous_feature(df_input.SUR1)"
   ]
  },
  {
   "cell_type": "markdown",
   "metadata": {},
   "source": [
    "### 6. SUR2\n",
    "Surroundings 2: the second most dominant types of land cover surrounding the water reservoir"
   ]
  },
  {
   "cell_type": "code",
   "execution_count": 69,
   "metadata": {},
   "outputs": [
    {
     "name": "stdout",
     "output_type": "stream",
     "text": [
      "Null value count :  0\n",
      "\n",
      " count    189.000000\n",
      "mean       5.391534\n",
      "std        3.515185\n",
      "min        1.000000\n",
      "25%        2.000000\n",
      "50%        6.000000\n",
      "75%        9.000000\n",
      "max       11.000000\n",
      "Name: SUR2, dtype: float64\n"
     ]
    },
    {
     "data": {
      "image/png": "[encoded data removed]",
      "text/plain": [
       "<Figure size 1800x720 with 2 Axes>"
      ]
     },
     "metadata": {},
     "output_type": "display_data"
    },
    {
     "data": {
      "text/html": [
       "<h4 style='background-color:#fbfbfb;font-family:serif;font-size:160%'>Continuous variable</h4>"
      ],
      "text/plain": [
       "<IPython.core.display.HTML object>"
      ]
     },
     "metadata": {},
     "output_type": "display_data"
    }
   ],
   "source": [
    "analyze_continuous_feature(df_input.SUR2)"
   ]
  },
  {
   "cell_type": "markdown",
   "metadata": {},
   "source": [
    "### 7. SUR3\n",
    "Surroundings 3: the third most dominant types of land cover surrounding the water reservoir<br>\n",
    "Comment: The surroundings feature was designated in three stages. First, the dominant surroundings were selected. <br>\n",
    "Then, two secondary types were chosen.<br>\n",
    "a. forest areas (with meadows) and densely wooded areas<br>\n",
    "b. areas of wasteland and meadows<br>\n",
    "c. allotment gardens<br>\n",
    "d. parks and green areas<br>\n",
    "e. dense building development, industrial areas<br>\n",
    "f. dispersed habitation, orchards, gardens<br>\n",
    "g. river valleys<br>\n",
    "h. roads, streets<br>\n",
    "i. agricultural land<br>\n",
    "The most valuable surroundings of water reservoirs for amphibians are areas with the least anthropopressure and proper moisture.<br>"
   ]
  },
  {
   "cell_type": "code",
   "execution_count": 70,
   "metadata": {},
   "outputs": [
    {
     "name": "stdout",
     "output_type": "stream",
     "text": [
      "Null value count :  0\n",
      "\n",
      " count    189.00000\n",
      "mean       5.84127\n",
      "std        3.29348\n",
      "min        1.00000\n",
      "25%        2.00000\n",
      "50%        6.00000\n",
      "75%        9.00000\n",
      "max       11.00000\n",
      "Name: SUR3, dtype: float64\n"
     ]
    },
    {
     "data": {
      "image/png": "[encoded data removed]",
      "text/plain": [
       "<Figure size 1800x720 with 2 Axes>"
      ]
     },
     "metadata": {},
     "output_type": "display_data"
    },
    {
     "data": {
      "text/html": [
       "<h4 style='background-color:#fbfbfb;font-family:serif;font-size:160%'>Continuous variable</h4>"
      ],
      "text/plain": [
       "<IPython.core.display.HTML object>"
      ]
     },
     "metadata": {},
     "output_type": "display_data"
    }
   ],
   "source": [
    "analyze_continuous_feature(df_input.SUR3)"
   ]
  },
  {
   "cell_type": "markdown",
   "metadata": {},
   "source": [
    "### 8. UR\n",
    "Use of water reservoirs:<br>\n",
    "a. unused by man (very attractive for amphibians)<br>\n",
    "b. recreational and scenic (care work is performed)<br>\n",
    "c. used economically (often fish farming)<br>\n",
    "d. technological<br>"
   ]
  },
  {
   "cell_type": "code",
   "execution_count": 71,
   "metadata": {},
   "outputs": [
    {
     "name": "stdout",
     "output_type": "stream",
     "text": [
      "Sample data:\n",
      "\n"
     ]
    },
    {
     "data": {
      "text/plain": [
       "2    0\n",
       "3    3\n",
       "4    3\n",
       "5    3\n",
       "6    0\n",
       "Name: UR, dtype: int64"
      ]
     },
     "metadata": {},
     "output_type": "display_data"
    },
    {
     "name": "stdout",
     "output_type": "stream",
     "text": [
      "\n",
      "Null value count :  0\n",
      "\n",
      "Unique values:  [0, 3, 1]\n",
      "\n",
      " Unique values count:  3\n",
      "\n",
      "Value counts:\n",
      "    Value  Count\n",
      "0      0    130\n",
      "1      3     50\n",
      "2      1      9\n"
     ]
    },
    {
     "data": {
      "image/png": "[encoded data removed]",
      "text/plain": [
       "<Figure size 1800x720 with 2 Axes>"
      ]
     },
     "metadata": {},
     "output_type": "display_data"
    },
    {
     "data": {
      "text/html": [
       "<h4 style='background-color:#fbfbfb;font-family:serif;font-size:160%'>Discrete variable</h4>"
      ],
      "text/plain": [
       "<IPython.core.display.HTML object>"
      ]
     },
     "metadata": {},
     "output_type": "display_data"
    }
   ],
   "source": [
    "analyze_discrete_feature(df_input.UR)"
   ]
  },
  {
   "cell_type": "markdown",
   "metadata": {},
   "source": [
    "### 9. FR\n",
    " The presence of fishing:<br>\n",
    "a. lack of or occasional fishing<br>\n",
    "b. intense fishing<br>\n",
    "c. breeding reservoirs<br>\n",
    "Comment: The presence of a large amount of fishing, in particular predatory and intense fishing, is not conducive to the presence of amphibians.<br>"
   ]
  },
  {
   "cell_type": "code",
   "execution_count": 72,
   "metadata": {},
   "outputs": [
    {
     "name": "stdout",
     "output_type": "stream",
     "text": [
      "Sample data:\n",
      "\n"
     ]
    },
    {
     "data": {
      "text/plain": [
       "2    0\n",
       "3    1\n",
       "4    4\n",
       "5    4\n",
       "6    0\n",
       "Name: FR, dtype: int64"
      ]
     },
     "metadata": {},
     "output_type": "display_data"
    },
    {
     "name": "stdout",
     "output_type": "stream",
     "text": [
      "\n",
      "Null value count :  0\n",
      "\n",
      "Unique values:  [0, 1, 4, 2, 3]\n",
      "\n",
      " Unique values count:  5\n",
      "\n",
      "Value counts:\n",
      "    Value  Count\n",
      "0      0    125\n",
      "1      3     18\n",
      "2      1     16\n",
      "3      4     15\n",
      "4      2     15\n"
     ]
    },
    {
     "data": {
      "image/png": "[encoded data removed]",
      "text/plain": [
       "<Figure size 1800x720 with 2 Axes>"
      ]
     },
     "metadata": {},
     "output_type": "display_data"
    },
    {
     "data": {
      "text/html": [
       "<h4 style='background-color:#fbfbfb;font-family:serif;font-size:160%'>Discrete variable</h4>"
      ],
      "text/plain": [
       "<IPython.core.display.HTML object>"
      ]
     },
     "metadata": {},
     "output_type": "display_data"
    }
   ],
   "source": [
    "analyze_discrete_feature(df_input.FR)"
   ]
  },
  {
   "cell_type": "markdown",
   "metadata": {},
   "source": [
    "### 10. OR\n",
    " Percentage access from the edges of the reservoir to undeveloped areas (the proposed percentage ranges are a numerical reflection of the phrases: lack of access, low access, medium access, large access to free space):<br>\n",
    "a. 0 to 25% lack of access or poor access<br>\n",
    "b. 25 to 50% low access<br>\n",
    "c. 50 to 75% medium access,<br>\n",
    "d. 75 to 100% large access to terrestrial habitats of the shoreline is in contact with the terrestrial habitat of amphibians.<br>"
   ]
  },
  {
   "cell_type": "code",
   "execution_count": 73,
   "metadata": {},
   "outputs": [
    {
     "name": "stdout",
     "output_type": "stream",
     "text": [
      "Null value count :  0\n",
      "\n",
      " count    189.000000\n",
      "mean      89.962963\n",
      "std       19.904926\n",
      "min       25.000000\n",
      "25%       99.000000\n",
      "50%      100.000000\n",
      "75%      100.000000\n",
      "max      100.000000\n",
      "Name: OR, dtype: float64\n"
     ]
    },
    {
     "data": {
      "image/png": "[encoded data removed]",
      "text/plain": [
       "<Figure size 1800x720 with 2 Axes>"
      ]
     },
     "metadata": {},
     "output_type": "display_data"
    },
    {
     "data": {
      "text/html": [
       "<h4 style='background-color:#fbfbfb;font-family:serif;font-size:160%'>Continuous variable</h4>"
      ],
      "text/plain": [
       "<IPython.core.display.HTML object>"
      ]
     },
     "metadata": {},
     "output_type": "display_data"
    }
   ],
   "source": [
    "analyze_continuous_feature(df_input.OR)"
   ]
  },
  {
   "cell_type": "markdown",
   "metadata": {},
   "source": [
    "### 11. RR\n",
    "Minimum distance from the water reservoir to roads:<br>\n",
    "a. <50 m<br>\n",
    "b. 50 - 00 m<br>\n",
    "c. 100 - 200 m<br>\n",
    "d. 200 - 500 m<br>\n",
    "e. 500 - 1000 m<br>\n",
    "f. >1000 m<br>\n",
    "Comment: The greater the distance between the reservoir and the road, the more safety for amphibians.<br>"
   ]
  },
  {
   "cell_type": "code",
   "execution_count": 74,
   "metadata": {},
   "outputs": [
    {
     "name": "stdout",
     "output_type": "stream",
     "text": [
      "Null value count :  0\n",
      "\n",
      " count    189.000000\n",
      "mean       2.333333\n",
      "std        2.520132\n",
      "min        0.000000\n",
      "25%        1.000000\n",
      "50%        1.000000\n",
      "75%        5.000000\n",
      "max       10.000000\n",
      "Name: RR, dtype: float64\n"
     ]
    },
    {
     "data": {
      "image/png": "[encoded data removed]",
      "text/plain": [
       "<Figure size 1800x720 with 2 Axes>"
      ]
     },
     "metadata": {},
     "output_type": "display_data"
    },
    {
     "data": {
      "text/html": [
       "<h4 style='background-color:#fbfbfb;font-family:serif;font-size:160%'>Continuous variable</h4>"
      ],
      "text/plain": [
       "<IPython.core.display.HTML object>"
      ]
     },
     "metadata": {},
     "output_type": "display_data"
    }
   ],
   "source": [
    "analyze_continuous_feature(df_input.RR)"
   ]
  },
  {
   "cell_type": "markdown",
   "metadata": {},
   "source": [
    "### 12. BR\n",
    "Building development - Minimum distance to buildings: <br>\n",
    "a. <50 m <br>\n",
    "b. 50 - 100 m<br>\n",
    "c. 100 - 200 m<br>\n",
    "d. 200 - 500 m<br>\n",
    "e. 500 - 1000 m<br>\n",
    "f. >1000 m<br>\n",
    "Comment: The more distant the buildings, the more favorable the conditions for the occurrence of amphibians.<br>"
   ]
  },
  {
   "cell_type": "code",
   "execution_count": 75,
   "metadata": {},
   "outputs": [
    {
     "name": "stdout",
     "output_type": "stream",
     "text": [
      "Null value count :  0\n",
      "\n",
      " count    189.000000\n",
      "mean       2.502646\n",
      "std        2.640971\n",
      "min        0.000000\n",
      "25%        1.000000\n",
      "50%        1.000000\n",
      "75%        5.000000\n",
      "max       10.000000\n",
      "Name: BR, dtype: float64\n"
     ]
    },
    {
     "data": {
      "image/png": "[encoded data removed]",
      "text/plain": [
       "<Figure size 1800x720 with 2 Axes>"
      ]
     },
     "metadata": {},
     "output_type": "display_data"
    },
    {
     "data": {
      "text/html": [
       "<h4 style='background-color:#fbfbfb;font-family:serif;font-size:160%'>Continuous variable</h4>"
      ],
      "text/plain": [
       "<IPython.core.display.HTML object>"
      ]
     },
     "metadata": {},
     "output_type": "display_data"
    }
   ],
   "source": [
    "analyze_continuous_feature(df_input.BR)"
   ]
  },
  {
   "cell_type": "markdown",
   "metadata": {},
   "source": [
    "### 13. MR\n",
    "Maintenance status of the reservoir:<br>\n",
    "a. Clean<br>\n",
    "b. slightly littered<br>\n",
    "c. reservoirs heavily or very heavily littered<br>\n",
    "Comment: Trash causes devastation of the reservoir ecosystem. Backfilling and leveling of water reservoirs with ground and debris should also be considered.<br>"
   ]
  },
  {
   "cell_type": "code",
   "execution_count": 76,
   "metadata": {},
   "outputs": [
    {
     "name": "stdout",
     "output_type": "stream",
     "text": [
      "Sample data:\n",
      "\n"
     ]
    },
    {
     "data": {
      "text/plain": [
       "2    0\n",
       "3    0\n",
       "4    0\n",
       "5    0\n",
       "6    0\n",
       "Name: MR, dtype: int64"
      ]
     },
     "metadata": {},
     "output_type": "display_data"
    },
    {
     "name": "stdout",
     "output_type": "stream",
     "text": [
      "\n",
      "Null value count :  0\n",
      "\n",
      "Unique values:  [0, 2, 1]\n",
      "\n",
      " Unique values count:  3\n",
      "\n",
      "Value counts:\n",
      "    Value  Count\n",
      "0      0    184\n",
      "1      2      4\n",
      "2      1      1\n"
     ]
    },
    {
     "data": {
      "image/png": "[encoded data removed]",
      "text/plain": [
       "<Figure size 1800x720 with 2 Axes>"
      ]
     },
     "metadata": {},
     "output_type": "display_data"
    },
    {
     "data": {
      "text/html": [
       "<h4 style='background-color:#fbfbfb;font-family:serif;font-size:160%'>Discrete variable</h4>"
      ],
      "text/plain": [
       "<IPython.core.display.HTML object>"
      ]
     },
     "metadata": {},
     "output_type": "display_data"
    }
   ],
   "source": [
    "analyze_discrete_feature(df_input.MR)"
   ]
  },
  {
   "cell_type": "markdown",
   "metadata": {},
   "source": [
    "### 14. CR\n",
    "Type of shore <br>\n",
    "a. Natural<br>\n",
    "b. Concrete<br>\n",
    "Comment: A concrete shore of a reservoir is not attractive for amphibians. A vertical concrete shore is usually a barrier for amphibians when they try to leave the water.<br>\n",
    "17) Label 1 â€“ the presence of Green frogs<br>\n",
    "18) Label 2 â€“ the presence of Brown frogs<br>\n",
    "19) Label 3 â€“ the presence of Common toad<br>\n",
    "20) Label 4 â€“ the presence of Fire-bellied toad<br>\n",
    "21) Label 5 â€“ the presence of Tree frog<br>\n",
    "22) Label 6 â€“ the presence of Common newt<br>\n",
    "23) Label 7 â€“ the presence of Great crested newt<br>"
   ]
  },
  {
   "cell_type": "code",
   "execution_count": 77,
   "metadata": {},
   "outputs": [
    {
     "name": "stdout",
     "output_type": "stream",
     "text": [
      "Sample data:\n",
      "\n"
     ]
    },
    {
     "data": {
      "text/plain": [
       "2    1\n",
       "3    1\n",
       "4    1\n",
       "5    1\n",
       "6    1\n",
       "Name: CR, dtype: int64"
      ]
     },
     "metadata": {},
     "output_type": "display_data"
    },
    {
     "name": "stdout",
     "output_type": "stream",
     "text": [
      "\n",
      "Null value count :  0\n",
      "\n",
      "Unique values:  [1, 2]\n",
      "\n",
      " Unique values count:  2\n",
      "\n",
      "Value counts:\n",
      "    Value  Count\n",
      "0      1    186\n",
      "1      2      3\n"
     ]
    },
    {
     "data": {
      "image/png": "[encoded data removed]",
      "text/plain": [
       "<Figure size 1800x720 with 2 Axes>"
      ]
     },
     "metadata": {},
     "output_type": "display_data"
    },
    {
     "data": {
      "text/html": [
       "<h4 style='background-color:#fbfbfb;font-family:serif;font-size:160%'>Discrete variable</h4>"
      ],
      "text/plain": [
       "<IPython.core.display.HTML object>"
      ]
     },
     "metadata": {},
     "output_type": "display_data"
    }
   ],
   "source": [
    "analyze_discrete_feature(df_input.CR)"
   ]
  },
  {
   "cell_type": "markdown",
   "metadata": {},
   "source": [
    "Create one column which will summarize the presence of amphibians"
   ]
  },
  {
   "cell_type": "code",
   "execution_count": 78,
   "metadata": {},
   "outputs": [
    {
     "data": {
      "text/html": [
       "<div>\n",
       "<style scoped>\n",
       "    .dataframe tbody tr th:only-of-type {\n",
       "        vertical-align: middle;\n",
       "    }\n",
       "\n",
       "    .dataframe tbody tr th {\n",
       "        vertical-align: top;\n",
       "    }\n",
       "\n",
       "    .dataframe thead th {\n",
       "        text-align: right;\n",
       "    }\n",
       "</style>\n",
       "<table border=\"1\" class=\"dataframe\">\n",
       "  <thead>\n",
       "    <tr style=\"text-align: right;\">\n",
       "      <th>1</th>\n",
       "      <th>Green frogs</th>\n",
       "      <th>Brown frogs</th>\n",
       "      <th>Common toad</th>\n",
       "      <th>Fire-bellied toad</th>\n",
       "      <th>Tree frog</th>\n",
       "      <th>Common newt</th>\n",
       "      <th>Great crested newt</th>\n",
       "    </tr>\n",
       "  </thead>\n",
       "  <tbody>\n",
       "    <tr>\n",
       "      <th>2</th>\n",
       "      <td>0</td>\n",
       "      <td>0</td>\n",
       "      <td>0</td>\n",
       "      <td>0</td>\n",
       "      <td>0</td>\n",
       "      <td>0</td>\n",
       "      <td>0</td>\n",
       "    </tr>\n",
       "    <tr>\n",
       "      <th>3</th>\n",
       "      <td>0</td>\n",
       "      <td>1</td>\n",
       "      <td>1</td>\n",
       "      <td>0</td>\n",
       "      <td>0</td>\n",
       "      <td>1</td>\n",
       "      <td>0</td>\n",
       "    </tr>\n",
       "  </tbody>\n",
       "</table>\n",
       "</div>"
      ],
      "text/plain": [
       "1  Green frogs  Brown frogs  Common toad  Fire-bellied toad  Tree frog  \\\n",
       "2            0            0            0                  0          0   \n",
       "3            0            1            1                  0          0   \n",
       "\n",
       "1  Common newt  Great crested newt  \n",
       "2            0                   0  \n",
       "3            1                   0  "
      ]
     },
     "execution_count": 78,
     "metadata": {},
     "output_type": "execute_result"
    }
   ],
   "source": [
    "# Get the target features\n",
    "amphibian_presence=df_input.loc[:,['Green frogs','Brown frogs','Common toad','Fire-bellied toad','Tree frog','Common newt','Great crested newt']]\n",
    "\n",
    "amphibian_presence.head(2)"
   ]
  },
  {
   "cell_type": "code",
   "execution_count": 79,
   "metadata": {},
   "outputs": [],
   "source": [
    "def get_target_codes(field,code_label):\n",
    "    '''\n",
    "        field will be the type of Series\n",
    "        code_label - is the input label for amphibians \n",
    "    '''\n",
    "    if field == 1:\n",
    "        return code_label\n",
    "    else: \n",
    "        return ''\n",
    "    "
   ]
  },
  {
   "cell_type": "code",
   "execution_count": 80,
   "metadata": {},
   "outputs": [],
   "source": [
    "'''\n",
    "Green frogs : G\n",
    "Brown frogs : B\n",
    "Common toad : C\n",
    "Fire-belled toad : F\n",
    "Tree frog : T\n",
    "Common newt : N\n",
    "Great crested newt : A\n",
    "'''\n",
    "for fld_name in amphibian_presence.columns:\n",
    "    code_label = \"\"\n",
    "    \n",
    "    if fld_name == 'Green frogs':\n",
    "        code_label = 'G'\n",
    "    elif fld_name == 'Brown frogs':\n",
    "        code_label = 'B'\n",
    "    elif fld_name == 'Common toad':\n",
    "        code_label = 'C'\n",
    "    elif fld_name == 'Fire-bellied toad':\n",
    "        code_label = 'F'\n",
    "    elif fld_name == 'Tree frog':\n",
    "        code_label = 'T'\n",
    "    elif fld_name == 'Common newt':\n",
    "        code_label = 'N'\n",
    "    elif fld_name == 'Great crested newt':\n",
    "        code_label = 'A'\n",
    "    \n",
    "    amphibian_presence[fld_name]=amphibian_presence[fld_name].apply(get_target_codes, args=(code_label))"
   ]
  },
  {
   "cell_type": "code",
   "execution_count": 81,
   "metadata": {},
   "outputs": [
    {
     "data": {
      "text/html": [
       "<div>\n",
       "<style scoped>\n",
       "    .dataframe tbody tr th:only-of-type {\n",
       "        vertical-align: middle;\n",
       "    }\n",
       "\n",
       "    .dataframe tbody tr th {\n",
       "        vertical-align: top;\n",
       "    }\n",
       "\n",
       "    .dataframe thead th {\n",
       "        text-align: right;\n",
       "    }\n",
       "</style>\n",
       "<table border=\"1\" class=\"dataframe\">\n",
       "  <thead>\n",
       "    <tr style=\"text-align: right;\">\n",
       "      <th>1</th>\n",
       "      <th>Green frogs</th>\n",
       "      <th>Brown frogs</th>\n",
       "      <th>Common toad</th>\n",
       "      <th>Fire-bellied toad</th>\n",
       "      <th>Tree frog</th>\n",
       "      <th>Common newt</th>\n",
       "      <th>Great crested newt</th>\n",
       "    </tr>\n",
       "  </thead>\n",
       "  <tbody>\n",
       "    <tr>\n",
       "      <th>2</th>\n",
       "      <td></td>\n",
       "      <td></td>\n",
       "      <td></td>\n",
       "      <td></td>\n",
       "      <td></td>\n",
       "      <td></td>\n",
       "      <td></td>\n",
       "    </tr>\n",
       "    <tr>\n",
       "      <th>3</th>\n",
       "      <td></td>\n",
       "      <td>B</td>\n",
       "      <td>C</td>\n",
       "      <td></td>\n",
       "      <td></td>\n",
       "      <td>N</td>\n",
       "      <td></td>\n",
       "    </tr>\n",
       "    <tr>\n",
       "      <th>4</th>\n",
       "      <td></td>\n",
       "      <td>B</td>\n",
       "      <td>C</td>\n",
       "      <td></td>\n",
       "      <td></td>\n",
       "      <td>N</td>\n",
       "      <td></td>\n",
       "    </tr>\n",
       "    <tr>\n",
       "      <th>5</th>\n",
       "      <td></td>\n",
       "      <td></td>\n",
       "      <td>C</td>\n",
       "      <td></td>\n",
       "      <td></td>\n",
       "      <td></td>\n",
       "      <td></td>\n",
       "    </tr>\n",
       "    <tr>\n",
       "      <th>6</th>\n",
       "      <td></td>\n",
       "      <td>B</td>\n",
       "      <td>C</td>\n",
       "      <td>F</td>\n",
       "      <td></td>\n",
       "      <td>N</td>\n",
       "      <td>A</td>\n",
       "    </tr>\n",
       "  </tbody>\n",
       "</table>\n",
       "</div>"
      ],
      "text/plain": [
       "1 Green frogs Brown frogs Common toad Fire-bellied toad Tree frog Common newt  \\\n",
       "2                                                                               \n",
       "3                       B           C                                       N   \n",
       "4                       B           C                                       N   \n",
       "5                                   C                                           \n",
       "6                       B           C                 F                     N   \n",
       "\n",
       "1 Great crested newt  \n",
       "2                     \n",
       "3                     \n",
       "4                     \n",
       "5                     \n",
       "6                  A  "
      ]
     },
     "execution_count": 81,
     "metadata": {},
     "output_type": "execute_result"
    }
   ],
   "source": [
    "amphibian_presence.head(5)"
   ]
  },
  {
   "cell_type": "code",
   "execution_count": 82,
   "metadata": {},
   "outputs": [],
   "source": [
    "def get_summary_code(row):\n",
    "    '''\n",
    "    input will be row of the dataframe\n",
    "    Concatenates all the string values and returns one result value per row.\n",
    "    '''\n",
    "    result = \"\" # represents absence of amphibians\n",
    "    for val in row:\n",
    "        result = result + val\n",
    "        \n",
    "    if result == \"\":\n",
    "        result = \"X\"\n",
    "        \n",
    "    return result"
   ]
  },
  {
   "cell_type": "code",
   "execution_count": 83,
   "metadata": {},
   "outputs": [],
   "source": [
    "result = amphibian_presence.apply(get_summary_code,axis = 1)"
   ]
  },
  {
   "cell_type": "code",
   "execution_count": 84,
   "metadata": {},
   "outputs": [
    {
     "data": {
      "text/plain": [
       "array(['X', 'BCN', 'C', 'BCFNA', 'GBF', 'BC', 'G', 'GC', 'GBC', 'GBCFT',\n",
       "       'BCT', 'GBCF', 'GCT', 'GCN', 'GN', 'GBCT', 'B', 'FTA', 'GBCNA',\n",
       "       'BT', 'T', 'GB', 'F', 'CTA', 'GFT', 'CFT', 'CT', 'GF', 'GBFN',\n",
       "       'GBTN', 'GBCTA', 'BN', 'GBCFTN', 'GBCTN', 'FT', 'GBCTNA', 'GBCFN',\n",
       "       'GBCN', 'GBCFTNA', 'BCF', 'BF', 'BCFTNA', 'GT'], dtype=object)"
      ]
     },
     "execution_count": 84,
     "metadata": {},
     "output_type": "execute_result"
    }
   ],
   "source": [
    "# Unique values in Amphibian labels\n",
    "result.unique()"
   ]
  },
  {
   "cell_type": "code",
   "execution_count": 85,
   "metadata": {},
   "outputs": [
    {
     "data": {
      "text/html": [
       "<div>\n",
       "<style scoped>\n",
       "    .dataframe tbody tr th:only-of-type {\n",
       "        vertical-align: middle;\n",
       "    }\n",
       "\n",
       "    .dataframe tbody tr th {\n",
       "        vertical-align: top;\n",
       "    }\n",
       "\n",
       "    .dataframe thead th {\n",
       "        text-align: right;\n",
       "    }\n",
       "</style>\n",
       "<table border=\"1\" class=\"dataframe\">\n",
       "  <thead>\n",
       "    <tr style=\"text-align: right;\">\n",
       "      <th>1</th>\n",
       "      <th>SR</th>\n",
       "      <th>NR</th>\n",
       "      <th>TR</th>\n",
       "      <th>VR</th>\n",
       "      <th>SUR1</th>\n",
       "      <th>SUR2</th>\n",
       "      <th>SUR3</th>\n",
       "      <th>UR</th>\n",
       "      <th>FR</th>\n",
       "      <th>OR</th>\n",
       "      <th>...</th>\n",
       "      <th>MR</th>\n",
       "      <th>CR</th>\n",
       "      <th>Green frogs</th>\n",
       "      <th>Brown frogs</th>\n",
       "      <th>Common toad</th>\n",
       "      <th>Fire-bellied toad</th>\n",
       "      <th>Tree frog</th>\n",
       "      <th>Common newt</th>\n",
       "      <th>Great crested newt</th>\n",
       "      <th>target</th>\n",
       "    </tr>\n",
       "  </thead>\n",
       "  <tbody>\n",
       "    <tr>\n",
       "      <th>2</th>\n",
       "      <td>600</td>\n",
       "      <td>1</td>\n",
       "      <td>1</td>\n",
       "      <td>4</td>\n",
       "      <td>6</td>\n",
       "      <td>2</td>\n",
       "      <td>10</td>\n",
       "      <td>0</td>\n",
       "      <td>0</td>\n",
       "      <td>50</td>\n",
       "      <td>...</td>\n",
       "      <td>0</td>\n",
       "      <td>1</td>\n",
       "      <td>0</td>\n",
       "      <td>0</td>\n",
       "      <td>0</td>\n",
       "      <td>0</td>\n",
       "      <td>0</td>\n",
       "      <td>0</td>\n",
       "      <td>0</td>\n",
       "      <td>X</td>\n",
       "    </tr>\n",
       "    <tr>\n",
       "      <th>3</th>\n",
       "      <td>700</td>\n",
       "      <td>1</td>\n",
       "      <td>5</td>\n",
       "      <td>1</td>\n",
       "      <td>10</td>\n",
       "      <td>6</td>\n",
       "      <td>10</td>\n",
       "      <td>3</td>\n",
       "      <td>1</td>\n",
       "      <td>75</td>\n",
       "      <td>...</td>\n",
       "      <td>0</td>\n",
       "      <td>1</td>\n",
       "      <td>0</td>\n",
       "      <td>1</td>\n",
       "      <td>1</td>\n",
       "      <td>0</td>\n",
       "      <td>0</td>\n",
       "      <td>1</td>\n",
       "      <td>0</td>\n",
       "      <td>BCN</td>\n",
       "    </tr>\n",
       "    <tr>\n",
       "      <th>4</th>\n",
       "      <td>200</td>\n",
       "      <td>1</td>\n",
       "      <td>5</td>\n",
       "      <td>1</td>\n",
       "      <td>10</td>\n",
       "      <td>6</td>\n",
       "      <td>10</td>\n",
       "      <td>3</td>\n",
       "      <td>4</td>\n",
       "      <td>75</td>\n",
       "      <td>...</td>\n",
       "      <td>0</td>\n",
       "      <td>1</td>\n",
       "      <td>0</td>\n",
       "      <td>1</td>\n",
       "      <td>1</td>\n",
       "      <td>0</td>\n",
       "      <td>0</td>\n",
       "      <td>1</td>\n",
       "      <td>0</td>\n",
       "      <td>BCN</td>\n",
       "    </tr>\n",
       "    <tr>\n",
       "      <th>5</th>\n",
       "      <td>300</td>\n",
       "      <td>1</td>\n",
       "      <td>5</td>\n",
       "      <td>0</td>\n",
       "      <td>6</td>\n",
       "      <td>10</td>\n",
       "      <td>2</td>\n",
       "      <td>3</td>\n",
       "      <td>4</td>\n",
       "      <td>25</td>\n",
       "      <td>...</td>\n",
       "      <td>0</td>\n",
       "      <td>1</td>\n",
       "      <td>0</td>\n",
       "      <td>0</td>\n",
       "      <td>1</td>\n",
       "      <td>0</td>\n",
       "      <td>0</td>\n",
       "      <td>0</td>\n",
       "      <td>0</td>\n",
       "      <td>C</td>\n",
       "    </tr>\n",
       "    <tr>\n",
       "      <th>6</th>\n",
       "      <td>600</td>\n",
       "      <td>2</td>\n",
       "      <td>1</td>\n",
       "      <td>4</td>\n",
       "      <td>10</td>\n",
       "      <td>2</td>\n",
       "      <td>6</td>\n",
       "      <td>0</td>\n",
       "      <td>0</td>\n",
       "      <td>99</td>\n",
       "      <td>...</td>\n",
       "      <td>0</td>\n",
       "      <td>1</td>\n",
       "      <td>0</td>\n",
       "      <td>1</td>\n",
       "      <td>1</td>\n",
       "      <td>1</td>\n",
       "      <td>0</td>\n",
       "      <td>1</td>\n",
       "      <td>1</td>\n",
       "      <td>BCFNA</td>\n",
       "    </tr>\n",
       "  </tbody>\n",
       "</table>\n",
       "<p>5 rows × 22 columns</p>\n",
       "</div>"
      ],
      "text/plain": [
       "1   SR  NR  TR  VR  SUR1  SUR2  SUR3  UR  FR  OR  ...  MR  CR  Green frogs  \\\n",
       "2  600   1   1   4     6     2    10   0   0  50  ...   0   1            0   \n",
       "3  700   1   5   1    10     6    10   3   1  75  ...   0   1            0   \n",
       "4  200   1   5   1    10     6    10   3   4  75  ...   0   1            0   \n",
       "5  300   1   5   0     6    10     2   3   4  25  ...   0   1            0   \n",
       "6  600   2   1   4    10     2     6   0   0  99  ...   0   1            0   \n",
       "\n",
       "1  Brown frogs  Common toad  Fire-bellied toad  Tree frog  Common newt  \\\n",
       "2            0            0                  0          0            0   \n",
       "3            1            1                  0          0            1   \n",
       "4            1            1                  0          0            1   \n",
       "5            0            1                  0          0            0   \n",
       "6            1            1                  1          0            1   \n",
       "\n",
       "1  Great crested newt  target  \n",
       "2                   0       X  \n",
       "3                   0     BCN  \n",
       "4                   0     BCN  \n",
       "5                   0       C  \n",
       "6                   1   BCFNA  \n",
       "\n",
       "[5 rows x 22 columns]"
      ]
     },
     "execution_count": 85,
     "metadata": {},
     "output_type": "execute_result"
    }
   ],
   "source": [
    "# Assign amphibian labels to main dataframe\n",
    "df_input[\"target\"] = result\n",
    "\n",
    "df_input.head()"
   ]
  },
  {
   "cell_type": "code",
   "execution_count": 86,
   "metadata": {},
   "outputs": [
    {
     "data": {
      "text/html": [
       "<div>\n",
       "<style scoped>\n",
       "    .dataframe tbody tr th:only-of-type {\n",
       "        vertical-align: middle;\n",
       "    }\n",
       "\n",
       "    .dataframe tbody tr th {\n",
       "        vertical-align: top;\n",
       "    }\n",
       "\n",
       "    .dataframe thead th {\n",
       "        text-align: right;\n",
       "    }\n",
       "</style>\n",
       "<table border=\"1\" class=\"dataframe\">\n",
       "  <thead>\n",
       "    <tr style=\"text-align: right;\">\n",
       "      <th>1</th>\n",
       "      <th>SR</th>\n",
       "      <th>NR</th>\n",
       "      <th>TR</th>\n",
       "      <th>VR</th>\n",
       "      <th>SUR1</th>\n",
       "      <th>SUR2</th>\n",
       "      <th>SUR3</th>\n",
       "      <th>UR</th>\n",
       "      <th>FR</th>\n",
       "      <th>OR</th>\n",
       "      <th>RR</th>\n",
       "      <th>BR</th>\n",
       "      <th>MR</th>\n",
       "      <th>CR</th>\n",
       "      <th>target</th>\n",
       "    </tr>\n",
       "  </thead>\n",
       "  <tbody>\n",
       "    <tr>\n",
       "      <th>2</th>\n",
       "      <td>600</td>\n",
       "      <td>1</td>\n",
       "      <td>1</td>\n",
       "      <td>4</td>\n",
       "      <td>6</td>\n",
       "      <td>2</td>\n",
       "      <td>10</td>\n",
       "      <td>0</td>\n",
       "      <td>0</td>\n",
       "      <td>50</td>\n",
       "      <td>0</td>\n",
       "      <td>0</td>\n",
       "      <td>0</td>\n",
       "      <td>1</td>\n",
       "      <td>X</td>\n",
       "    </tr>\n",
       "    <tr>\n",
       "      <th>3</th>\n",
       "      <td>700</td>\n",
       "      <td>1</td>\n",
       "      <td>5</td>\n",
       "      <td>1</td>\n",
       "      <td>10</td>\n",
       "      <td>6</td>\n",
       "      <td>10</td>\n",
       "      <td>3</td>\n",
       "      <td>1</td>\n",
       "      <td>75</td>\n",
       "      <td>1</td>\n",
       "      <td>1</td>\n",
       "      <td>0</td>\n",
       "      <td>1</td>\n",
       "      <td>BCN</td>\n",
       "    </tr>\n",
       "    <tr>\n",
       "      <th>4</th>\n",
       "      <td>200</td>\n",
       "      <td>1</td>\n",
       "      <td>5</td>\n",
       "      <td>1</td>\n",
       "      <td>10</td>\n",
       "      <td>6</td>\n",
       "      <td>10</td>\n",
       "      <td>3</td>\n",
       "      <td>4</td>\n",
       "      <td>75</td>\n",
       "      <td>1</td>\n",
       "      <td>1</td>\n",
       "      <td>0</td>\n",
       "      <td>1</td>\n",
       "      <td>BCN</td>\n",
       "    </tr>\n",
       "    <tr>\n",
       "      <th>5</th>\n",
       "      <td>300</td>\n",
       "      <td>1</td>\n",
       "      <td>5</td>\n",
       "      <td>0</td>\n",
       "      <td>6</td>\n",
       "      <td>10</td>\n",
       "      <td>2</td>\n",
       "      <td>3</td>\n",
       "      <td>4</td>\n",
       "      <td>25</td>\n",
       "      <td>0</td>\n",
       "      <td>0</td>\n",
       "      <td>0</td>\n",
       "      <td>1</td>\n",
       "      <td>C</td>\n",
       "    </tr>\n",
       "    <tr>\n",
       "      <th>6</th>\n",
       "      <td>600</td>\n",
       "      <td>2</td>\n",
       "      <td>1</td>\n",
       "      <td>4</td>\n",
       "      <td>10</td>\n",
       "      <td>2</td>\n",
       "      <td>6</td>\n",
       "      <td>0</td>\n",
       "      <td>0</td>\n",
       "      <td>99</td>\n",
       "      <td>0</td>\n",
       "      <td>5</td>\n",
       "      <td>0</td>\n",
       "      <td>1</td>\n",
       "      <td>BCFNA</td>\n",
       "    </tr>\n",
       "  </tbody>\n",
       "</table>\n",
       "</div>"
      ],
      "text/plain": [
       "1   SR  NR  TR  VR  SUR1  SUR2  SUR3  UR  FR  OR  RR  BR  MR  CR target\n",
       "2  600   1   1   4     6     2    10   0   0  50   0   0   0   1      X\n",
       "3  700   1   5   1    10     6    10   3   1  75   1   1   0   1    BCN\n",
       "4  200   1   5   1    10     6    10   3   4  75   1   1   0   1    BCN\n",
       "5  300   1   5   0     6    10     2   3   4  25   0   0   0   1      C\n",
       "6  600   2   1   4    10     2     6   0   0  99   0   5   0   1  BCFNA"
      ]
     },
     "execution_count": 86,
     "metadata": {},
     "output_type": "execute_result"
    }
   ],
   "source": [
    "# Remove origian amphibian features from dataframe\n",
    "df_input.drop(['Green frogs','Brown frogs','Common toad','Fire-bellied toad','Tree frog','Common newt','Great crested newt'],axis=1,inplace=True)\n",
    "\n",
    "df_input.head()"
   ]
  },
  {
   "cell_type": "code",
   "execution_count": 171,
   "metadata": {},
   "outputs": [
    {
     "data": {
      "image/png": "[encoded data removed]",
      "text/plain": [
       "<Figure size 1584x504 with 2 Axes>"
      ]
     },
     "metadata": {},
     "output_type": "display_data"
    }
   ],
   "source": [
    "# Visualize the distribution of amphibian groups\n",
    "\n",
    "fig, ax = plt.subplots(1, 2, gridspec_kw={'width_ratios': [3,1]},figsize=(22,7))\n",
    "\n",
    "ax[1].grid(False)\n",
    "ax[1].set_xticklabels([])\n",
    "ax[1].set_yticklabels([])\n",
    "\n",
    "fig.patch.set_facecolor(background_color)\n",
    "ax[0].set_facecolor(background_color)\n",
    "ax[1].set_facecolor(background_color)\n",
    "\n",
    "sns.countplot(data=df_input,x=\"target\",ax=ax[0],order=df_input['target'].value_counts().index,color='royalblue')\n",
    "ax[0].set_xlabel(\"Amphibian groups\")\n",
    "# rotate x labels\n",
    "for tick in ax[0].get_xticklabels():\n",
    "    tick.set_rotation(90)\n",
    "    \n",
    "#Draw line in the middle    \n",
    "l1= lines.Line2D([0.67,0.67],[0.1, 0.9],color='black',lw=0.2,transform=fig.transFigure)\n",
    "fig.lines.extend([l1])\n",
    "\n",
    "#Description\n",
    "fig.text(x=0.7,\n",
    "        y=0.8,\n",
    "        s=\"Amphibian groups count\",\n",
    "        fontweight='bold',\n",
    "        fontfamily='serif',\n",
    "         fontsize=17,\n",
    "        color='grey')\n",
    "fig.text(x=0.65,\n",
    "        y=0.3,\n",
    "        fontweight='light',\n",
    "        fontfamily='serif',\n",
    "         fontsize=17,\n",
    "        color='grey',\n",
    "        s='''\n",
    "        Green frogs : G\n",
    "        Brown frogs : B\n",
    "        Common toad : C\n",
    "        Fire-belled toad : F\n",
    "        Tree frog : T\n",
    "        Common newt : N\n",
    "        Great crested newt : A \\n\n",
    "        eg. BC means combination of Brown frogs and Common toad\n",
    "        \n",
    "        ''')\n",
    "\n",
    "plt.show()"
   ]
  },
  {
   "cell_type": "code",
   "execution_count": 173,
   "metadata": {},
   "outputs": [],
   "source": [
    "df_input.to_csv('tableau_data.csv')"
   ]
  },
  {
   "cell_type": "code",
   "execution_count": 37,
   "metadata": {},
   "outputs": [],
   "source": [
    "le = LabelEncoder()"
   ]
  },
  {
   "cell_type": "code",
   "execution_count": 48,
   "metadata": {},
   "outputs": [],
   "source": [
    "df_input['target']=le.fit_transform(df_input.target)"
   ]
  },
  {
   "cell_type": "code",
   "execution_count": 50,
   "metadata": {},
   "outputs": [
    {
     "data": {
      "text/plain": [
       "{'B': 0,\n",
       " 'BC': 1,\n",
       " 'BCF': 2,\n",
       " 'BCFNA': 3,\n",
       " 'BCFTNA': 4,\n",
       " 'BCN': 5,\n",
       " 'BCT': 6,\n",
       " 'BF': 7,\n",
       " 'BN': 8,\n",
       " 'BT': 9,\n",
       " 'C': 10,\n",
       " 'CFT': 11,\n",
       " 'CT': 12,\n",
       " 'CTA': 13,\n",
       " 'F': 14,\n",
       " 'FT': 15,\n",
       " 'FTA': 16,\n",
       " 'G': 17,\n",
       " 'GB': 18,\n",
       " 'GBC': 19,\n",
       " 'GBCF': 20,\n",
       " 'GBCFN': 21,\n",
       " 'GBCFT': 22,\n",
       " 'GBCFTN': 23,\n",
       " 'GBCFTNA': 24,\n",
       " 'GBCN': 25,\n",
       " 'GBCNA': 26,\n",
       " 'GBCT': 27,\n",
       " 'GBCTA': 28,\n",
       " 'GBCTN': 29,\n",
       " 'GBCTNA': 30,\n",
       " 'GBF': 31,\n",
       " 'GBFN': 32,\n",
       " 'GBTN': 33,\n",
       " 'GC': 34,\n",
       " 'GCN': 35,\n",
       " 'GCT': 36,\n",
       " 'GF': 37,\n",
       " 'GFT': 38,\n",
       " 'GN': 39,\n",
       " 'GT': 40,\n",
       " 'T': 41,\n",
       " 'X': 42}"
      ]
     },
     "execution_count": 50,
     "metadata": {},
     "output_type": "execute_result"
    }
   ],
   "source": [
    "# Mapping for label and encoded value\n",
    "dict(zip(le.classes_,le.transform(le.classes_)))"
   ]
  },
  {
   "cell_type": "code",
   "execution_count": 51,
   "metadata": {},
   "outputs": [
    {
     "data": {
      "text/html": [
       "<div>\n",
       "<style scoped>\n",
       "    .dataframe tbody tr th:only-of-type {\n",
       "        vertical-align: middle;\n",
       "    }\n",
       "\n",
       "    .dataframe tbody tr th {\n",
       "        vertical-align: top;\n",
       "    }\n",
       "\n",
       "    .dataframe thead th {\n",
       "        text-align: right;\n",
       "    }\n",
       "</style>\n",
       "<table border=\"1\" class=\"dataframe\">\n",
       "  <thead>\n",
       "    <tr style=\"text-align: right;\">\n",
       "      <th>1</th>\n",
       "      <th>SR</th>\n",
       "      <th>NR</th>\n",
       "      <th>TR</th>\n",
       "      <th>VR</th>\n",
       "      <th>SUR1</th>\n",
       "      <th>SUR2</th>\n",
       "      <th>SUR3</th>\n",
       "      <th>UR</th>\n",
       "      <th>FR</th>\n",
       "      <th>OR</th>\n",
       "      <th>RR</th>\n",
       "      <th>BR</th>\n",
       "      <th>MR</th>\n",
       "      <th>CR</th>\n",
       "      <th>target</th>\n",
       "    </tr>\n",
       "  </thead>\n",
       "  <tbody>\n",
       "    <tr>\n",
       "      <th>2</th>\n",
       "      <td>600</td>\n",
       "      <td>1</td>\n",
       "      <td>1</td>\n",
       "      <td>4</td>\n",
       "      <td>6</td>\n",
       "      <td>2</td>\n",
       "      <td>10</td>\n",
       "      <td>0</td>\n",
       "      <td>0</td>\n",
       "      <td>50</td>\n",
       "      <td>0</td>\n",
       "      <td>0</td>\n",
       "      <td>0</td>\n",
       "      <td>1</td>\n",
       "      <td>42</td>\n",
       "    </tr>\n",
       "    <tr>\n",
       "      <th>3</th>\n",
       "      <td>700</td>\n",
       "      <td>1</td>\n",
       "      <td>5</td>\n",
       "      <td>1</td>\n",
       "      <td>10</td>\n",
       "      <td>6</td>\n",
       "      <td>10</td>\n",
       "      <td>3</td>\n",
       "      <td>1</td>\n",
       "      <td>75</td>\n",
       "      <td>1</td>\n",
       "      <td>1</td>\n",
       "      <td>0</td>\n",
       "      <td>1</td>\n",
       "      <td>5</td>\n",
       "    </tr>\n",
       "    <tr>\n",
       "      <th>4</th>\n",
       "      <td>200</td>\n",
       "      <td>1</td>\n",
       "      <td>5</td>\n",
       "      <td>1</td>\n",
       "      <td>10</td>\n",
       "      <td>6</td>\n",
       "      <td>10</td>\n",
       "      <td>3</td>\n",
       "      <td>4</td>\n",
       "      <td>75</td>\n",
       "      <td>1</td>\n",
       "      <td>1</td>\n",
       "      <td>0</td>\n",
       "      <td>1</td>\n",
       "      <td>5</td>\n",
       "    </tr>\n",
       "    <tr>\n",
       "      <th>5</th>\n",
       "      <td>300</td>\n",
       "      <td>1</td>\n",
       "      <td>5</td>\n",
       "      <td>0</td>\n",
       "      <td>6</td>\n",
       "      <td>10</td>\n",
       "      <td>2</td>\n",
       "      <td>3</td>\n",
       "      <td>4</td>\n",
       "      <td>25</td>\n",
       "      <td>0</td>\n",
       "      <td>0</td>\n",
       "      <td>0</td>\n",
       "      <td>1</td>\n",
       "      <td>10</td>\n",
       "    </tr>\n",
       "    <tr>\n",
       "      <th>6</th>\n",
       "      <td>600</td>\n",
       "      <td>2</td>\n",
       "      <td>1</td>\n",
       "      <td>4</td>\n",
       "      <td>10</td>\n",
       "      <td>2</td>\n",
       "      <td>6</td>\n",
       "      <td>0</td>\n",
       "      <td>0</td>\n",
       "      <td>99</td>\n",
       "      <td>0</td>\n",
       "      <td>5</td>\n",
       "      <td>0</td>\n",
       "      <td>1</td>\n",
       "      <td>3</td>\n",
       "    </tr>\n",
       "    <tr>\n",
       "      <th>...</th>\n",
       "      <td>...</td>\n",
       "      <td>...</td>\n",
       "      <td>...</td>\n",
       "      <td>...</td>\n",
       "      <td>...</td>\n",
       "      <td>...</td>\n",
       "      <td>...</td>\n",
       "      <td>...</td>\n",
       "      <td>...</td>\n",
       "      <td>...</td>\n",
       "      <td>...</td>\n",
       "      <td>...</td>\n",
       "      <td>...</td>\n",
       "      <td>...</td>\n",
       "      <td>...</td>\n",
       "    </tr>\n",
       "    <tr>\n",
       "      <th>186</th>\n",
       "      <td>2300</td>\n",
       "      <td>1</td>\n",
       "      <td>12</td>\n",
       "      <td>3</td>\n",
       "      <td>2</td>\n",
       "      <td>2</td>\n",
       "      <td>1</td>\n",
       "      <td>0</td>\n",
       "      <td>0</td>\n",
       "      <td>75</td>\n",
       "      <td>2</td>\n",
       "      <td>1</td>\n",
       "      <td>0</td>\n",
       "      <td>1</td>\n",
       "      <td>0</td>\n",
       "    </tr>\n",
       "    <tr>\n",
       "      <th>187</th>\n",
       "      <td>300</td>\n",
       "      <td>1</td>\n",
       "      <td>14</td>\n",
       "      <td>2</td>\n",
       "      <td>7</td>\n",
       "      <td>10</td>\n",
       "      <td>2</td>\n",
       "      <td>0</td>\n",
       "      <td>0</td>\n",
       "      <td>100</td>\n",
       "      <td>5</td>\n",
       "      <td>5</td>\n",
       "      <td>0</td>\n",
       "      <td>1</td>\n",
       "      <td>21</td>\n",
       "    </tr>\n",
       "    <tr>\n",
       "      <th>188</th>\n",
       "      <td>500</td>\n",
       "      <td>1</td>\n",
       "      <td>1</td>\n",
       "      <td>4</td>\n",
       "      <td>1</td>\n",
       "      <td>10</td>\n",
       "      <td>2</td>\n",
       "      <td>0</td>\n",
       "      <td>0</td>\n",
       "      <td>100</td>\n",
       "      <td>5</td>\n",
       "      <td>5</td>\n",
       "      <td>0</td>\n",
       "      <td>1</td>\n",
       "      <td>21</td>\n",
       "    </tr>\n",
       "    <tr>\n",
       "      <th>189</th>\n",
       "      <td>300</td>\n",
       "      <td>1</td>\n",
       "      <td>12</td>\n",
       "      <td>3</td>\n",
       "      <td>2</td>\n",
       "      <td>1</td>\n",
       "      <td>6</td>\n",
       "      <td>0</td>\n",
       "      <td>0</td>\n",
       "      <td>100</td>\n",
       "      <td>1</td>\n",
       "      <td>0</td>\n",
       "      <td>0</td>\n",
       "      <td>1</td>\n",
       "      <td>1</td>\n",
       "    </tr>\n",
       "    <tr>\n",
       "      <th>190</th>\n",
       "      <td>300</td>\n",
       "      <td>1</td>\n",
       "      <td>12</td>\n",
       "      <td>3</td>\n",
       "      <td>2</td>\n",
       "      <td>6</td>\n",
       "      <td>10</td>\n",
       "      <td>0</td>\n",
       "      <td>0</td>\n",
       "      <td>100</td>\n",
       "      <td>1</td>\n",
       "      <td>1</td>\n",
       "      <td>0</td>\n",
       "      <td>1</td>\n",
       "      <td>1</td>\n",
       "    </tr>\n",
       "  </tbody>\n",
       "</table>\n",
       "<p>189 rows × 15 columns</p>\n",
       "</div>"
      ],
      "text/plain": [
       "1      SR  NR  TR  VR  SUR1  SUR2  SUR3  UR  FR   OR  RR  BR  MR  CR  target\n",
       "2     600   1   1   4     6     2    10   0   0   50   0   0   0   1      42\n",
       "3     700   1   5   1    10     6    10   3   1   75   1   1   0   1       5\n",
       "4     200   1   5   1    10     6    10   3   4   75   1   1   0   1       5\n",
       "5     300   1   5   0     6    10     2   3   4   25   0   0   0   1      10\n",
       "6     600   2   1   4    10     2     6   0   0   99   0   5   0   1       3\n",
       "..    ...  ..  ..  ..   ...   ...   ...  ..  ..  ...  ..  ..  ..  ..     ...\n",
       "186  2300   1  12   3     2     2     1   0   0   75   2   1   0   1       0\n",
       "187   300   1  14   2     7    10     2   0   0  100   5   5   0   1      21\n",
       "188   500   1   1   4     1    10     2   0   0  100   5   5   0   1      21\n",
       "189   300   1  12   3     2     1     6   0   0  100   1   0   0   1       1\n",
       "190   300   1  12   3     2     6    10   0   0  100   1   1   0   1       1\n",
       "\n",
       "[189 rows x 15 columns]"
      ]
     },
     "execution_count": 51,
     "metadata": {},
     "output_type": "execute_result"
    }
   ],
   "source": [
    "df_input"
   ]
  },
  {
   "cell_type": "code",
   "execution_count": null,
   "metadata": {},
   "outputs": [],
   "source": []
  }
 ],
 "metadata": {
  "kernelspec": {
   "display_name": "Python 3",
   "language": "python",
   "name": "python3"
  },
  "language_info": {
   "codemirror_mode": {
    "name": "ipython",
    "version": 3
   },
   "file_extension": ".py",
   "mimetype": "text/x-python",
   "name": "python",
   "nbconvert_exporter": "python",
   "pygments_lexer": "ipython3",
   "version": "3.8.5"
  }
 },
 "nbformat": 4,
 "nbformat_minor": 4
}
